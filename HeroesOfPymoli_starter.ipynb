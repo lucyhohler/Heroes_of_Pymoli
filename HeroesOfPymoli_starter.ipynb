{
 "cells": [
  {
   "cell_type": "markdown",
   "metadata": {},
   "source": [
    "### Heroes Of Pymoli Data Analysis\n",
    "* Of the 1163 active players, the vast majority are male (84%). There also exists, a smaller, but notable proportion of female players (14%).\n",
    "\n",
    "* Our peak age demographic falls between 20-24 (44.8%) with secondary groups falling between 15-19 (18.60%) and 25-29 (13.4%).  \n",
    "-----"
   ]
  },
  {
   "cell_type": "markdown",
   "metadata": {},
   "source": [
    "### Note\n",
    "* Instructions have been included for each segment. You do not have to follow them exactly, but they are included to help you think through the steps."
   ]
  },
  {
   "cell_type": "code",
   "execution_count": 123,
   "metadata": {},
   "outputs": [
    {
     "data": {
      "text/html": [
       "<div>\n",
       "<style scoped>\n",
       "    .dataframe tbody tr th:only-of-type {\n",
       "        vertical-align: middle;\n",
       "    }\n",
       "\n",
       "    .dataframe tbody tr th {\n",
       "        vertical-align: top;\n",
       "    }\n",
       "\n",
       "    .dataframe thead th {\n",
       "        text-align: right;\n",
       "    }\n",
       "</style>\n",
       "<table border=\"1\" class=\"dataframe\">\n",
       "  <thead>\n",
       "    <tr style=\"text-align: right;\">\n",
       "      <th></th>\n",
       "      <th>Purchase ID</th>\n",
       "      <th>SN</th>\n",
       "      <th>Age</th>\n",
       "      <th>Gender</th>\n",
       "      <th>Item ID</th>\n",
       "      <th>Item Name</th>\n",
       "      <th>Price</th>\n",
       "    </tr>\n",
       "  </thead>\n",
       "  <tbody>\n",
       "    <tr>\n",
       "      <th>0</th>\n",
       "      <td>0</td>\n",
       "      <td>Lisim78</td>\n",
       "      <td>20</td>\n",
       "      <td>Male</td>\n",
       "      <td>108</td>\n",
       "      <td>Extraction, Quickblade Of Trembling Hands</td>\n",
       "      <td>3.53</td>\n",
       "    </tr>\n",
       "    <tr>\n",
       "      <th>1</th>\n",
       "      <td>1</td>\n",
       "      <td>Lisovynya38</td>\n",
       "      <td>40</td>\n",
       "      <td>Male</td>\n",
       "      <td>143</td>\n",
       "      <td>Frenzied Scimitar</td>\n",
       "      <td>1.56</td>\n",
       "    </tr>\n",
       "    <tr>\n",
       "      <th>2</th>\n",
       "      <td>2</td>\n",
       "      <td>Ithergue48</td>\n",
       "      <td>24</td>\n",
       "      <td>Male</td>\n",
       "      <td>92</td>\n",
       "      <td>Final Critic</td>\n",
       "      <td>4.88</td>\n",
       "    </tr>\n",
       "    <tr>\n",
       "      <th>3</th>\n",
       "      <td>3</td>\n",
       "      <td>Chamassasya86</td>\n",
       "      <td>24</td>\n",
       "      <td>Male</td>\n",
       "      <td>100</td>\n",
       "      <td>Blindscythe</td>\n",
       "      <td>3.27</td>\n",
       "    </tr>\n",
       "    <tr>\n",
       "      <th>4</th>\n",
       "      <td>4</td>\n",
       "      <td>Iskosia90</td>\n",
       "      <td>23</td>\n",
       "      <td>Male</td>\n",
       "      <td>131</td>\n",
       "      <td>Fury</td>\n",
       "      <td>1.44</td>\n",
       "    </tr>\n",
       "  </tbody>\n",
       "</table>\n",
       "</div>"
      ],
      "text/plain": [
       "   Purchase ID             SN  Age Gender  Item ID  \\\n",
       "0            0        Lisim78   20   Male      108   \n",
       "1            1    Lisovynya38   40   Male      143   \n",
       "2            2     Ithergue48   24   Male       92   \n",
       "3            3  Chamassasya86   24   Male      100   \n",
       "4            4      Iskosia90   23   Male      131   \n",
       "\n",
       "                                   Item Name  Price  \n",
       "0  Extraction, Quickblade Of Trembling Hands   3.53  \n",
       "1                          Frenzied Scimitar   1.56  \n",
       "2                               Final Critic   4.88  \n",
       "3                                Blindscythe   3.27  \n",
       "4                                       Fury   1.44  "
      ]
     },
     "execution_count": 123,
     "metadata": {},
     "output_type": "execute_result"
    }
   ],
   "source": [
    "# Dependencies and Setup\n",
    "import pandas as pd\n",
    "import numpy as np\n",
    "\n",
    "# File to Load \n",
    "file_to_load = \"Resources/purchase_data.csv\"\n",
    "\n",
    "# Read Purchasing File and store into Pandas data frame\n",
    "purchase_data = pd.read_csv(file_to_load)\n",
    "purchase_data.head()"
   ]
  },
  {
   "cell_type": "markdown",
   "metadata": {},
   "source": [
    "## Player Count"
   ]
  },
  {
   "cell_type": "markdown",
   "metadata": {},
   "source": [
    "* Display the total number of players\n"
   ]
  },
  {
   "cell_type": "code",
   "execution_count": 124,
   "metadata": {},
   "outputs": [
    {
     "data": {
      "text/html": [
       "<div>\n",
       "<style scoped>\n",
       "    .dataframe tbody tr th:only-of-type {\n",
       "        vertical-align: middle;\n",
       "    }\n",
       "\n",
       "    .dataframe tbody tr th {\n",
       "        vertical-align: top;\n",
       "    }\n",
       "\n",
       "    .dataframe thead th {\n",
       "        text-align: right;\n",
       "    }\n",
       "</style>\n",
       "<table border=\"1\" class=\"dataframe\">\n",
       "  <thead>\n",
       "    <tr style=\"text-align: right;\">\n",
       "      <th></th>\n",
       "      <th>Total Players</th>\n",
       "    </tr>\n",
       "  </thead>\n",
       "  <tbody>\n",
       "    <tr>\n",
       "      <th>0</th>\n",
       "      <td>576</td>\n",
       "    </tr>\n",
       "  </tbody>\n",
       "</table>\n",
       "</div>"
      ],
      "text/plain": [
       "   Total Players\n",
       "0            576"
      ]
     },
     "execution_count": 124,
     "metadata": {},
     "output_type": "execute_result"
    }
   ],
   "source": [
    "# create a dataframe\n",
    "purchase_df = pd.DataFrame(purchase_data, columns=['Purchase ID', 'SN', 'Age', 'Gender', 'Item ID', 'Item Name', 'Price'])\n",
    "\n",
    "# player count\n",
    "total_players_count = (purchase_df['SN'].nunique())\n",
    "total_players_df = pd.DataFrame([total_players_count], columns=['Total Players'])\n",
    "total_players_df\n"
   ]
  },
  {
   "cell_type": "markdown",
   "metadata": {},
   "source": [
    "## Purchasing Analysis (Total)"
   ]
  },
  {
   "cell_type": "markdown",
   "metadata": {},
   "source": [
    "* Run basic calculations to obtain number of unique items, average price, etc.\n",
    "\n",
    "\n",
    "* Create a summary data frame to hold the results\n",
    "\n",
    "\n",
    "* Optional: give the displayed data cleaner formatting\n",
    "\n",
    "\n",
    "* Display the summary data frame\n"
   ]
  },
  {
   "cell_type": "code",
   "execution_count": 125,
   "metadata": {
    "scrolled": true
   },
   "outputs": [
    {
     "data": {
      "text/html": [
       "<div>\n",
       "<style scoped>\n",
       "    .dataframe tbody tr th:only-of-type {\n",
       "        vertical-align: middle;\n",
       "    }\n",
       "\n",
       "    .dataframe tbody tr th {\n",
       "        vertical-align: top;\n",
       "    }\n",
       "\n",
       "    .dataframe thead th {\n",
       "        text-align: right;\n",
       "    }\n",
       "</style>\n",
       "<table border=\"1\" class=\"dataframe\">\n",
       "  <thead>\n",
       "    <tr style=\"text-align: right;\">\n",
       "      <th></th>\n",
       "      <th>Number of Unique Items</th>\n",
       "      <th>Average Price</th>\n",
       "      <th>Number of Purchases</th>\n",
       "      <th>Total Revenue</th>\n",
       "    </tr>\n",
       "  </thead>\n",
       "  <tbody>\n",
       "    <tr>\n",
       "      <th>0</th>\n",
       "      <td>183</td>\n",
       "      <td>$3.05</td>\n",
       "      <td>780</td>\n",
       "      <td>$2,379.77</td>\n",
       "    </tr>\n",
       "  </tbody>\n",
       "</table>\n",
       "</div>"
      ],
      "text/plain": [
       "   Number of Unique Items Average Price  Number of Purchases Total Revenue\n",
       "0                     183         $3.05                  780     $2,379.77"
      ]
     },
     "execution_count": 125,
     "metadata": {},
     "output_type": "execute_result"
    }
   ],
   "source": [
    "unique_items_total = purchase_df['Item ID'].nunique()\n",
    "\n",
    "average_price = purchase_df['Price'].mean()\n",
    "average_price_format = f'${average_price:.2f}'\n",
    "\n",
    "number_of_purchases = purchase_df['Purchase ID'].count()\n",
    "\n",
    "total_revenue = purchase_df['Price'].sum()\n",
    "total_revenue_format = f'${total_revenue:,.2f}'\n",
    "\n",
    "summary_df = pd.DataFrame([(unique_items_total, average_price_format, number_of_purchases, total_revenue_format)], columns=['Number of Unique Items', 'Average Price', 'Number of Purchases', 'Total Revenue'])\n",
    "summary_df\n",
    "\n"
   ]
  },
  {
   "cell_type": "markdown",
   "metadata": {},
   "source": [
    "## Gender Demographics"
   ]
  },
  {
   "cell_type": "markdown",
   "metadata": {},
   "source": [
    "* Percentage and Count of Male Players\n",
    "\n",
    "\n",
    "* Percentage and Count of Female Players\n",
    "\n",
    "\n",
    "* Percentage and Count of Other / Non-Disclosed\n",
    "\n",
    "\n"
   ]
  },
  {
   "cell_type": "code",
   "execution_count": 126,
   "metadata": {},
   "outputs": [
    {
     "data": {
      "text/html": [
       "<style  type=\"text/css\" >\n",
       "</style>  \n",
       "<table id=\"T_9f49c692_2f51_11e9_ba4c_9822efed83fa\" > \n",
       "<thead>    <tr> \n",
       "        <th class=\"blank level0\" ></th> \n",
       "        <th class=\"col_heading level0 col0\" >Total Count</th> \n",
       "        <th class=\"col_heading level0 col1\" >Percentage of Players</th> \n",
       "    </tr></thead> \n",
       "<tbody>    <tr> \n",
       "        <th id=\"T_9f49c692_2f51_11e9_ba4c_9822efed83falevel0_row0\" class=\"row_heading level0 row0\" >Male</th> \n",
       "        <td id=\"T_9f49c692_2f51_11e9_ba4c_9822efed83farow0_col0\" class=\"data row0 col0\" >484</td> \n",
       "        <td id=\"T_9f49c692_2f51_11e9_ba4c_9822efed83farow0_col1\" class=\"data row0 col1\" >84.03</td> \n",
       "    </tr>    <tr> \n",
       "        <th id=\"T_9f49c692_2f51_11e9_ba4c_9822efed83falevel0_row1\" class=\"row_heading level0 row1\" >Female</th> \n",
       "        <td id=\"T_9f49c692_2f51_11e9_ba4c_9822efed83farow1_col0\" class=\"data row1 col0\" >81</td> \n",
       "        <td id=\"T_9f49c692_2f51_11e9_ba4c_9822efed83farow1_col1\" class=\"data row1 col1\" >14.06</td> \n",
       "    </tr>    <tr> \n",
       "        <th id=\"T_9f49c692_2f51_11e9_ba4c_9822efed83falevel0_row2\" class=\"row_heading level0 row2\" >Other / Non-Disclosed</th> \n",
       "        <td id=\"T_9f49c692_2f51_11e9_ba4c_9822efed83farow2_col0\" class=\"data row2 col0\" >11</td> \n",
       "        <td id=\"T_9f49c692_2f51_11e9_ba4c_9822efed83farow2_col1\" class=\"data row2 col1\" >1.91</td> \n",
       "    </tr></tbody> \n",
       "</table> "
      ],
      "text/plain": [
       "<pandas.io.formats.style.Styler at 0x23c079beb00>"
      ]
     },
     "execution_count": 126,
     "metadata": {},
     "output_type": "execute_result"
    }
   ],
   "source": [
    "gender_groups = purchase_df.groupby(['Gender'])\n",
    "gender_df = gender_groups['SN'].nunique()\n",
    "\n",
    "summary_df = pd.DataFrame({'Total Count':gender_df})\n",
    "\n",
    "percent = ((gender_df / gender_df.sum()) * 100)\n",
    "\n",
    "summary_df['Percentage of Players'] = percent\n",
    "\n",
    "\n",
    "summary_df = summary_df.sort_values(by=['Total Count'], ascending = False)\n",
    "summary_df = summary_df.style.format({'Percentage of Players': '{:.2f}'})\n",
    "summary_df.index.name = None\n",
    "summary_df\n"
   ]
  },
  {
   "cell_type": "markdown",
   "metadata": {},
   "source": [
    "\n",
    "## Purchasing Analysis (Gender)"
   ]
  },
  {
   "cell_type": "markdown",
   "metadata": {},
   "source": [
    "* Run basic calculations to obtain purchase count, avg. purchase price, avg. purchase total per person etc. by gender\n",
    "\n",
    "\n",
    "\n",
    "\n",
    "* Create a summary data frame to hold the results\n",
    "\n",
    "\n",
    "* Optional: give the displayed data cleaner formatting\n",
    "\n",
    "\n",
    "* Display the summary data frame"
   ]
  },
  {
   "cell_type": "code",
   "execution_count": 127,
   "metadata": {},
   "outputs": [
    {
     "data": {
      "text/html": [
       "<style  type=\"text/css\" >\n",
       "</style>  \n",
       "<table id=\"T_a2a708a4_2f51_11e9_96c0_9822efed83fa\" > \n",
       "<thead>    <tr> \n",
       "        <th class=\"blank level0\" ></th> \n",
       "        <th class=\"col_heading level0 col0\" >Purchase Count</th> \n",
       "        <th class=\"col_heading level0 col1\" >Average Purchase Price</th> \n",
       "        <th class=\"col_heading level0 col2\" >Total Purchase Value</th> \n",
       "        <th class=\"col_heading level0 col3\" >Avg Total Purchase per Person</th> \n",
       "    </tr>    <tr> \n",
       "        <th class=\"index_name level0\" >Gender</th> \n",
       "        <th class=\"blank\" ></th> \n",
       "        <th class=\"blank\" ></th> \n",
       "        <th class=\"blank\" ></th> \n",
       "        <th class=\"blank\" ></th> \n",
       "    </tr></thead> \n",
       "<tbody>    <tr> \n",
       "        <th id=\"T_a2a708a4_2f51_11e9_96c0_9822efed83falevel0_row0\" class=\"row_heading level0 row0\" >Female</th> \n",
       "        <td id=\"T_a2a708a4_2f51_11e9_96c0_9822efed83farow0_col0\" class=\"data row0 col0\" >113</td> \n",
       "        <td id=\"T_a2a708a4_2f51_11e9_96c0_9822efed83farow0_col1\" class=\"data row0 col1\" >$3.20</td> \n",
       "        <td id=\"T_a2a708a4_2f51_11e9_96c0_9822efed83farow0_col2\" class=\"data row0 col2\" >$361.94</td> \n",
       "        <td id=\"T_a2a708a4_2f51_11e9_96c0_9822efed83farow0_col3\" class=\"data row0 col3\" >$4.47</td> \n",
       "    </tr>    <tr> \n",
       "        <th id=\"T_a2a708a4_2f51_11e9_96c0_9822efed83falevel0_row1\" class=\"row_heading level0 row1\" >Male</th> \n",
       "        <td id=\"T_a2a708a4_2f51_11e9_96c0_9822efed83farow1_col0\" class=\"data row1 col0\" >652</td> \n",
       "        <td id=\"T_a2a708a4_2f51_11e9_96c0_9822efed83farow1_col1\" class=\"data row1 col1\" >$3.02</td> \n",
       "        <td id=\"T_a2a708a4_2f51_11e9_96c0_9822efed83farow1_col2\" class=\"data row1 col2\" >$1,967.64</td> \n",
       "        <td id=\"T_a2a708a4_2f51_11e9_96c0_9822efed83farow1_col3\" class=\"data row1 col3\" >$4.07</td> \n",
       "    </tr>    <tr> \n",
       "        <th id=\"T_a2a708a4_2f51_11e9_96c0_9822efed83falevel0_row2\" class=\"row_heading level0 row2\" >Other / Non-Disclosed</th> \n",
       "        <td id=\"T_a2a708a4_2f51_11e9_96c0_9822efed83farow2_col0\" class=\"data row2 col0\" >15</td> \n",
       "        <td id=\"T_a2a708a4_2f51_11e9_96c0_9822efed83farow2_col1\" class=\"data row2 col1\" >$3.35</td> \n",
       "        <td id=\"T_a2a708a4_2f51_11e9_96c0_9822efed83farow2_col2\" class=\"data row2 col2\" >$50.19</td> \n",
       "        <td id=\"T_a2a708a4_2f51_11e9_96c0_9822efed83farow2_col3\" class=\"data row2 col3\" >$4.56</td> \n",
       "    </tr></tbody> \n",
       "</table> "
      ],
      "text/plain": [
       "<pandas.io.formats.style.Styler at 0x23c0798cc18>"
      ]
     },
     "execution_count": 127,
     "metadata": {},
     "output_type": "execute_result"
    }
   ],
   "source": [
    "total_count_gender = gender_groups.nunique()[\"SN\"]\n",
    "\n",
    "purchase_count = gender_groups[\"Purchase ID\"].count()\n",
    "\n",
    "avg_purchase_price = gender_groups[\"Price\"].mean()\n",
    "\n",
    "avg_purchase_total = gender_groups[\"Price\"].sum()\n",
    "\n",
    "avg_purchase_per_person = avg_purchase_total/total_count_gender\n",
    "\n",
    "gender_demographics = pd.DataFrame({\"Purchase Count\": purchase_count, \"Average Purchase Price\": avg_purchase_price, \"Total Purchase Value\":avg_purchase_total, \"Avg Total Purchase per Person\": avg_purchase_per_person})\n",
    "\n",
    "gender_demographics.index.name = \"Gender\"\n",
    "\n",
    "gender_demographics.style.format({\"Average Purchase Price\":\"${:,.2f}\", \"Total Purchase Value\":\"${:,.2f}\", \"Avg Total Purchase per Person\":\"${:,.2f}\"})\n"
   ]
  },
  {
   "cell_type": "markdown",
   "metadata": {},
   "source": [
    "## Age Demographics"
   ]
  },
  {
   "cell_type": "markdown",
   "metadata": {},
   "source": [
    "* Establish bins for ages\n",
    "\n",
    "\n",
    "* Categorize the existing players using the age bins. Hint: use pd.cut()\n",
    "\n",
    "\n",
    "* Calculate the numbers and percentages by age group\n",
    "\n",
    "\n",
    "* Create a summary data frame to hold the results\n",
    "\n",
    "\n",
    "* Optional: round the percentage column to two decimal points\n",
    "\n",
    "\n",
    "* Display Age Demographics Table\n"
   ]
  },
  {
   "cell_type": "code",
   "execution_count": 128,
   "metadata": {},
   "outputs": [
    {
     "data": {
      "text/html": [
       "<style  type=\"text/css\" >\n",
       "</style>  \n",
       "<table id=\"T_a5a1e806_2f51_11e9_97d3_9822efed83fa\" > \n",
       "<thead>    <tr> \n",
       "        <th class=\"blank level0\" ></th> \n",
       "        <th class=\"col_heading level0 col0\" >Total Count</th> \n",
       "        <th class=\"col_heading level0 col1\" >Percentage of Players</th> \n",
       "    </tr>    <tr> \n",
       "        <th class=\"index_name level0\" >Age Group</th> \n",
       "        <th class=\"blank\" ></th> \n",
       "        <th class=\"blank\" ></th> \n",
       "    </tr></thead> \n",
       "<tbody>    <tr> \n",
       "        <th id=\"T_a5a1e806_2f51_11e9_97d3_9822efed83falevel0_row0\" class=\"row_heading level0 row0\" ><10</th> \n",
       "        <td id=\"T_a5a1e806_2f51_11e9_97d3_9822efed83farow0_col0\" class=\"data row0 col0\" >17</td> \n",
       "        <td id=\"T_a5a1e806_2f51_11e9_97d3_9822efed83farow0_col1\" class=\"data row0 col1\" >2.95</td> \n",
       "    </tr>    <tr> \n",
       "        <th id=\"T_a5a1e806_2f51_11e9_97d3_9822efed83falevel0_row1\" class=\"row_heading level0 row1\" >10-14</th> \n",
       "        <td id=\"T_a5a1e806_2f51_11e9_97d3_9822efed83farow1_col0\" class=\"data row1 col0\" >22</td> \n",
       "        <td id=\"T_a5a1e806_2f51_11e9_97d3_9822efed83farow1_col1\" class=\"data row1 col1\" >3.82</td> \n",
       "    </tr>    <tr> \n",
       "        <th id=\"T_a5a1e806_2f51_11e9_97d3_9822efed83falevel0_row2\" class=\"row_heading level0 row2\" >15-19</th> \n",
       "        <td id=\"T_a5a1e806_2f51_11e9_97d3_9822efed83farow2_col0\" class=\"data row2 col0\" >107</td> \n",
       "        <td id=\"T_a5a1e806_2f51_11e9_97d3_9822efed83farow2_col1\" class=\"data row2 col1\" >18.58</td> \n",
       "    </tr>    <tr> \n",
       "        <th id=\"T_a5a1e806_2f51_11e9_97d3_9822efed83falevel0_row3\" class=\"row_heading level0 row3\" >20-24</th> \n",
       "        <td id=\"T_a5a1e806_2f51_11e9_97d3_9822efed83farow3_col0\" class=\"data row3 col0\" >258</td> \n",
       "        <td id=\"T_a5a1e806_2f51_11e9_97d3_9822efed83farow3_col1\" class=\"data row3 col1\" >44.79</td> \n",
       "    </tr>    <tr> \n",
       "        <th id=\"T_a5a1e806_2f51_11e9_97d3_9822efed83falevel0_row4\" class=\"row_heading level0 row4\" >25-29</th> \n",
       "        <td id=\"T_a5a1e806_2f51_11e9_97d3_9822efed83farow4_col0\" class=\"data row4 col0\" >77</td> \n",
       "        <td id=\"T_a5a1e806_2f51_11e9_97d3_9822efed83farow4_col1\" class=\"data row4 col1\" >13.37</td> \n",
       "    </tr>    <tr> \n",
       "        <th id=\"T_a5a1e806_2f51_11e9_97d3_9822efed83falevel0_row5\" class=\"row_heading level0 row5\" >30-34</th> \n",
       "        <td id=\"T_a5a1e806_2f51_11e9_97d3_9822efed83farow5_col0\" class=\"data row5 col0\" >52</td> \n",
       "        <td id=\"T_a5a1e806_2f51_11e9_97d3_9822efed83farow5_col1\" class=\"data row5 col1\" >9.03</td> \n",
       "    </tr>    <tr> \n",
       "        <th id=\"T_a5a1e806_2f51_11e9_97d3_9822efed83falevel0_row6\" class=\"row_heading level0 row6\" >35-39</th> \n",
       "        <td id=\"T_a5a1e806_2f51_11e9_97d3_9822efed83farow6_col0\" class=\"data row6 col0\" >31</td> \n",
       "        <td id=\"T_a5a1e806_2f51_11e9_97d3_9822efed83farow6_col1\" class=\"data row6 col1\" >5.38</td> \n",
       "    </tr>    <tr> \n",
       "        <th id=\"T_a5a1e806_2f51_11e9_97d3_9822efed83falevel0_row7\" class=\"row_heading level0 row7\" >40+</th> \n",
       "        <td id=\"T_a5a1e806_2f51_11e9_97d3_9822efed83farow7_col0\" class=\"data row7 col0\" >12</td> \n",
       "        <td id=\"T_a5a1e806_2f51_11e9_97d3_9822efed83farow7_col1\" class=\"data row7 col1\" >2.08</td> \n",
       "    </tr></tbody> \n",
       "</table> "
      ],
      "text/plain": [
       "<pandas.io.formats.style.Styler at 0x23c07997d30>"
      ]
     },
     "execution_count": 128,
     "metadata": {},
     "output_type": "execute_result"
    }
   ],
   "source": [
    "age_bins = [0, 9.99, 14.99, 19.99, 24.99, 29.99, 34.99, 39.99, 99999]\n",
    "group_names = [\"<10\", \"10-14\", \"15-19\", \"20-24\", \"25-29\", \"30-34\", \"35-39\", \"40+\"]\n",
    "\n",
    "purchase_data[\"Age Group\"] = pd.cut(purchase_data[\"Age\"],age_bins, labels=group_names)\n",
    "age_grouped = purchase_data.groupby(\"Age Group\")\n",
    "total_count_age = age_grouped[\"SN\"].nunique()\n",
    "percentage_by_age = (total_count_age/total_players_count) * 100\n",
    "\n",
    "age_demographics = pd.DataFrame({\"Total Count\": total_count_age, \"Percentage of Players\": percentage_by_age})\n",
    "\n",
    "\n",
    "age_demographics.style.format({\"Percentage of Players\":\"{:,.2f}\"})\n"
   ]
  },
  {
   "cell_type": "markdown",
   "metadata": {},
   "source": [
    "## Purchasing Analysis (Age)"
   ]
  },
  {
   "cell_type": "markdown",
   "metadata": {},
   "source": [
    "* Bin the purchase_data data frame by age\n",
    "\n",
    "\n",
    "* Run basic calculations to obtain purchase count, avg. purchase price, avg. purchase total per person etc. in the table below\n",
    "\n",
    "\n",
    "* Create a summary data frame to hold the results\n",
    "\n",
    "\n",
    "* Optional: give the displayed data cleaner formatting\n",
    "\n",
    "\n",
    "* Display the summary data frame"
   ]
  },
  {
   "cell_type": "code",
   "execution_count": 131,
   "metadata": {},
   "outputs": [
    {
     "data": {
      "text/html": [
       "<style  type=\"text/css\" >\n",
       "</style>  \n",
       "<table id=\"T_e3a2b812_2f51_11e9_88e1_9822efed83fa\" > \n",
       "<thead>    <tr> \n",
       "        <th class=\"blank level0\" ></th> \n",
       "        <th class=\"col_heading level0 col0\" >Purchase Count</th> \n",
       "        <th class=\"col_heading level0 col1\" >Average Purchase Price</th> \n",
       "        <th class=\"col_heading level0 col2\" >Total Purchase Value</th> \n",
       "        <th class=\"col_heading level0 col3\" >Avg Total Purchase per Person</th> \n",
       "    </tr></thead> \n",
       "<tbody>    <tr> \n",
       "        <th id=\"T_e3a2b812_2f51_11e9_88e1_9822efed83falevel0_row0\" class=\"row_heading level0 row0\" ><10</th> \n",
       "        <td id=\"T_e3a2b812_2f51_11e9_88e1_9822efed83farow0_col0\" class=\"data row0 col0\" >23</td> \n",
       "        <td id=\"T_e3a2b812_2f51_11e9_88e1_9822efed83farow0_col1\" class=\"data row0 col1\" >$3.35</td> \n",
       "        <td id=\"T_e3a2b812_2f51_11e9_88e1_9822efed83farow0_col2\" class=\"data row0 col2\" >$77.13</td> \n",
       "        <td id=\"T_e3a2b812_2f51_11e9_88e1_9822efed83farow0_col3\" class=\"data row0 col3\" >$4.54</td> \n",
       "    </tr>    <tr> \n",
       "        <th id=\"T_e3a2b812_2f51_11e9_88e1_9822efed83falevel0_row1\" class=\"row_heading level0 row1\" >10-14</th> \n",
       "        <td id=\"T_e3a2b812_2f51_11e9_88e1_9822efed83farow1_col0\" class=\"data row1 col0\" >28</td> \n",
       "        <td id=\"T_e3a2b812_2f51_11e9_88e1_9822efed83farow1_col1\" class=\"data row1 col1\" >$2.96</td> \n",
       "        <td id=\"T_e3a2b812_2f51_11e9_88e1_9822efed83farow1_col2\" class=\"data row1 col2\" >$82.78</td> \n",
       "        <td id=\"T_e3a2b812_2f51_11e9_88e1_9822efed83farow1_col3\" class=\"data row1 col3\" >$3.76</td> \n",
       "    </tr>    <tr> \n",
       "        <th id=\"T_e3a2b812_2f51_11e9_88e1_9822efed83falevel0_row2\" class=\"row_heading level0 row2\" >15-19</th> \n",
       "        <td id=\"T_e3a2b812_2f51_11e9_88e1_9822efed83farow2_col0\" class=\"data row2 col0\" >136</td> \n",
       "        <td id=\"T_e3a2b812_2f51_11e9_88e1_9822efed83farow2_col1\" class=\"data row2 col1\" >$3.04</td> \n",
       "        <td id=\"T_e3a2b812_2f51_11e9_88e1_9822efed83farow2_col2\" class=\"data row2 col2\" >$412.89</td> \n",
       "        <td id=\"T_e3a2b812_2f51_11e9_88e1_9822efed83farow2_col3\" class=\"data row2 col3\" >$3.86</td> \n",
       "    </tr>    <tr> \n",
       "        <th id=\"T_e3a2b812_2f51_11e9_88e1_9822efed83falevel0_row3\" class=\"row_heading level0 row3\" >20-24</th> \n",
       "        <td id=\"T_e3a2b812_2f51_11e9_88e1_9822efed83farow3_col0\" class=\"data row3 col0\" >365</td> \n",
       "        <td id=\"T_e3a2b812_2f51_11e9_88e1_9822efed83farow3_col1\" class=\"data row3 col1\" >$3.05</td> \n",
       "        <td id=\"T_e3a2b812_2f51_11e9_88e1_9822efed83farow3_col2\" class=\"data row3 col2\" >$1,114.06</td> \n",
       "        <td id=\"T_e3a2b812_2f51_11e9_88e1_9822efed83farow3_col3\" class=\"data row3 col3\" >$4.32</td> \n",
       "    </tr>    <tr> \n",
       "        <th id=\"T_e3a2b812_2f51_11e9_88e1_9822efed83falevel0_row4\" class=\"row_heading level0 row4\" >25-29</th> \n",
       "        <td id=\"T_e3a2b812_2f51_11e9_88e1_9822efed83farow4_col0\" class=\"data row4 col0\" >101</td> \n",
       "        <td id=\"T_e3a2b812_2f51_11e9_88e1_9822efed83farow4_col1\" class=\"data row4 col1\" >$2.90</td> \n",
       "        <td id=\"T_e3a2b812_2f51_11e9_88e1_9822efed83farow4_col2\" class=\"data row4 col2\" >$293.00</td> \n",
       "        <td id=\"T_e3a2b812_2f51_11e9_88e1_9822efed83farow4_col3\" class=\"data row4 col3\" >$3.81</td> \n",
       "    </tr>    <tr> \n",
       "        <th id=\"T_e3a2b812_2f51_11e9_88e1_9822efed83falevel0_row5\" class=\"row_heading level0 row5\" >30-34</th> \n",
       "        <td id=\"T_e3a2b812_2f51_11e9_88e1_9822efed83farow5_col0\" class=\"data row5 col0\" >73</td> \n",
       "        <td id=\"T_e3a2b812_2f51_11e9_88e1_9822efed83farow5_col1\" class=\"data row5 col1\" >$2.93</td> \n",
       "        <td id=\"T_e3a2b812_2f51_11e9_88e1_9822efed83farow5_col2\" class=\"data row5 col2\" >$214.00</td> \n",
       "        <td id=\"T_e3a2b812_2f51_11e9_88e1_9822efed83farow5_col3\" class=\"data row5 col3\" >$4.12</td> \n",
       "    </tr>    <tr> \n",
       "        <th id=\"T_e3a2b812_2f51_11e9_88e1_9822efed83falevel0_row6\" class=\"row_heading level0 row6\" >35-39</th> \n",
       "        <td id=\"T_e3a2b812_2f51_11e9_88e1_9822efed83farow6_col0\" class=\"data row6 col0\" >41</td> \n",
       "        <td id=\"T_e3a2b812_2f51_11e9_88e1_9822efed83farow6_col1\" class=\"data row6 col1\" >$3.60</td> \n",
       "        <td id=\"T_e3a2b812_2f51_11e9_88e1_9822efed83farow6_col2\" class=\"data row6 col2\" >$147.67</td> \n",
       "        <td id=\"T_e3a2b812_2f51_11e9_88e1_9822efed83farow6_col3\" class=\"data row6 col3\" >$4.76</td> \n",
       "    </tr>    <tr> \n",
       "        <th id=\"T_e3a2b812_2f51_11e9_88e1_9822efed83falevel0_row7\" class=\"row_heading level0 row7\" >40+</th> \n",
       "        <td id=\"T_e3a2b812_2f51_11e9_88e1_9822efed83farow7_col0\" class=\"data row7 col0\" >13</td> \n",
       "        <td id=\"T_e3a2b812_2f51_11e9_88e1_9822efed83farow7_col1\" class=\"data row7 col1\" >$2.94</td> \n",
       "        <td id=\"T_e3a2b812_2f51_11e9_88e1_9822efed83farow7_col2\" class=\"data row7 col2\" >$38.24</td> \n",
       "        <td id=\"T_e3a2b812_2f51_11e9_88e1_9822efed83farow7_col3\" class=\"data row7 col3\" >$3.19</td> \n",
       "    </tr></tbody> \n",
       "</table> "
      ],
      "text/plain": [
       "<pandas.io.formats.style.Styler at 0x23c07a24e80>"
      ]
     },
     "execution_count": 131,
     "metadata": {},
     "output_type": "execute_result"
    }
   ],
   "source": [
    "age_demographics_alt = pd.DataFrame(age_demographics)\n",
    "\n",
    "purchase_count_age = age_grouped[\"Purchase ID\"].count()\n",
    "\n",
    "avg_purchase_price_age = age_grouped[\"Price\"].mean()\n",
    "total_purchase_value = age_grouped[\"Price\"].sum()\n",
    "avg_purchase_per_person_age = total_purchase_value/total_count_age\n",
    "age_demographics_alt = pd.DataFrame({\"Purchase Count\": purchase_count_age, \"Average Purchase Price\": avg_purchase_price_age, \"Total Purchase Value\":total_purchase_value, \"Avg Total Purchase per Person\": avg_purchase_per_person_age})\n",
    "\n",
    "age_demographics_alt.index.name = None\n",
    "\n",
    "age_demographics_alt.style.format({\"Average Purchase Price\":\"${:,.2f}\", \"Total Purchase Value\":\"${:,.2f}\", \"Avg Total Purchase per Person\":\"${:,.2f}\"})\n"
   ]
  },
  {
   "cell_type": "code",
   "execution_count": 132,
   "metadata": {},
   "outputs": [],
   "source": [
    "#age_demographics_alt = pd.DataFrame(age_demographics)\n",
    "\n",
    "#purchase_count_age = age_grouped[\"Purchase ID\"].count()\n",
    "\n",
    "#avg_purchase_price_age = age_grouped[\"Price\"].mean()\n",
    "#total_purchase_value = age_grouped[\"Price\"].sum()\n",
    "#avg_purchase_per_person_age = total_purchase_value/total_count_age\n",
    "#age_demographics_alt = pd.DataFrame({\"Purchase Count\": purchase_count_age, \"Average Purchase Price\": avg_purchase_price_age, \"Total Purchase Value\":total_purchase_value, \"Avg Total Purchase per Person\": avg_purchase_per_person_age})\n",
    "\n",
    "#age_demographics_alt.index.name = None\n",
    "\n",
    "#age_demographics_alt.style.format({\"Average Purchase Price\":\"${:,.2f}\", \"Total Purchase Value\":\"${:,.2f}\", \"Avg Total Purchase per Person\":\"${:,.2f}\"})\n"
   ]
  },
  {
   "cell_type": "markdown",
   "metadata": {},
   "source": [
    "## Top Spenders"
   ]
  },
  {
   "cell_type": "markdown",
   "metadata": {},
   "source": [
    "* Run basic calculations to obtain the results in the table below\n",
    "\n",
    "\n",
    "* Create a summary data frame to hold the results\n",
    "\n",
    "\n",
    "* Sort the total purchase value column in descending order\n",
    "\n",
    "\n",
    "* Optional: give the displayed data cleaner formatting\n",
    "\n",
    "\n",
    "* Display a preview of the summary data frame\n",
    "\n"
   ]
  },
  {
   "cell_type": "code",
   "execution_count": 133,
   "metadata": {},
   "outputs": [
    {
     "data": {
      "text/html": [
       "<style  type=\"text/css\" >\n",
       "</style>  \n",
       "<table id=\"T_f68947d8_2f51_11e9_8484_9822efed83fa\" > \n",
       "<thead>    <tr> \n",
       "        <th class=\"blank level0\" ></th> \n",
       "        <th class=\"col_heading level0 col0\" >Purchase Count</th> \n",
       "        <th class=\"col_heading level0 col1\" >Average Purchase Price</th> \n",
       "        <th class=\"col_heading level0 col2\" >Total Purchase Value</th> \n",
       "    </tr>    <tr> \n",
       "        <th class=\"index_name level0\" >SN</th> \n",
       "        <th class=\"blank\" ></th> \n",
       "        <th class=\"blank\" ></th> \n",
       "        <th class=\"blank\" ></th> \n",
       "    </tr></thead> \n",
       "<tbody>    <tr> \n",
       "        <th id=\"T_f68947d8_2f51_11e9_8484_9822efed83falevel0_row0\" class=\"row_heading level0 row0\" >Lisosia93</th> \n",
       "        <td id=\"T_f68947d8_2f51_11e9_8484_9822efed83farow0_col0\" class=\"data row0 col0\" >5</td> \n",
       "        <td id=\"T_f68947d8_2f51_11e9_8484_9822efed83farow0_col1\" class=\"data row0 col1\" >$3.79</td> \n",
       "        <td id=\"T_f68947d8_2f51_11e9_8484_9822efed83farow0_col2\" class=\"data row0 col2\" >$18.96</td> \n",
       "    </tr>    <tr> \n",
       "        <th id=\"T_f68947d8_2f51_11e9_8484_9822efed83falevel0_row1\" class=\"row_heading level0 row1\" >Idastidru52</th> \n",
       "        <td id=\"T_f68947d8_2f51_11e9_8484_9822efed83farow1_col0\" class=\"data row1 col0\" >4</td> \n",
       "        <td id=\"T_f68947d8_2f51_11e9_8484_9822efed83farow1_col1\" class=\"data row1 col1\" >$3.86</td> \n",
       "        <td id=\"T_f68947d8_2f51_11e9_8484_9822efed83farow1_col2\" class=\"data row1 col2\" >$15.45</td> \n",
       "    </tr>    <tr> \n",
       "        <th id=\"T_f68947d8_2f51_11e9_8484_9822efed83falevel0_row2\" class=\"row_heading level0 row2\" >Chamjask73</th> \n",
       "        <td id=\"T_f68947d8_2f51_11e9_8484_9822efed83farow2_col0\" class=\"data row2 col0\" >3</td> \n",
       "        <td id=\"T_f68947d8_2f51_11e9_8484_9822efed83farow2_col1\" class=\"data row2 col1\" >$4.61</td> \n",
       "        <td id=\"T_f68947d8_2f51_11e9_8484_9822efed83farow2_col2\" class=\"data row2 col2\" >$13.83</td> \n",
       "    </tr>    <tr> \n",
       "        <th id=\"T_f68947d8_2f51_11e9_8484_9822efed83falevel0_row3\" class=\"row_heading level0 row3\" >Iral74</th> \n",
       "        <td id=\"T_f68947d8_2f51_11e9_8484_9822efed83farow3_col0\" class=\"data row3 col0\" >4</td> \n",
       "        <td id=\"T_f68947d8_2f51_11e9_8484_9822efed83farow3_col1\" class=\"data row3 col1\" >$3.40</td> \n",
       "        <td id=\"T_f68947d8_2f51_11e9_8484_9822efed83farow3_col2\" class=\"data row3 col2\" >$13.62</td> \n",
       "    </tr>    <tr> \n",
       "        <th id=\"T_f68947d8_2f51_11e9_8484_9822efed83falevel0_row4\" class=\"row_heading level0 row4\" >Iskadarya95</th> \n",
       "        <td id=\"T_f68947d8_2f51_11e9_8484_9822efed83farow4_col0\" class=\"data row4 col0\" >3</td> \n",
       "        <td id=\"T_f68947d8_2f51_11e9_8484_9822efed83farow4_col1\" class=\"data row4 col1\" >$4.37</td> \n",
       "        <td id=\"T_f68947d8_2f51_11e9_8484_9822efed83farow4_col2\" class=\"data row4 col2\" >$13.10</td> \n",
       "    </tr></tbody> \n",
       "</table> "
      ],
      "text/plain": [
       "<pandas.io.formats.style.Styler at 0x23c07997cf8>"
      ]
     },
     "execution_count": 133,
     "metadata": {},
     "output_type": "execute_result"
    }
   ],
   "source": [
    "# Group purchase data by screen names\n",
    "spender_stats = purchase_data.groupby(\"SN\")\n",
    "\n",
    "# Count the total purchases by name\n",
    "purchase_count_spender = spender_stats[\"Purchase ID\"].count()\n",
    "\n",
    "# Calculate the average purchase by name \n",
    "avg_purchase_price_spender = spender_stats[\"Price\"].mean()\n",
    "\n",
    "# Calculate purchase total \n",
    "total_purchase_spender = spender_stats[\"Price\"].sum()\n",
    "\n",
    "# Create data frame with obtained values\n",
    "top_spenders = pd.DataFrame({\"Purchase Count\": purchase_count_spender, \"Average Purchase Price\": avg_purchase_price_spender, \"Total Purchase Value\":total_purchase_spender})\n",
    "\n",
    "# Sort in descending order to obtain top 5 spender names \n",
    "formatted_spenders = top_spenders.sort_values([\"Total Purchase Value\"], ascending=False).head()\n",
    "\n",
    "# Format with currency style\n",
    "formatted_spenders.style.format({\"Average Purchase Price\":\"${:,.2f}\", \"Total Purchase Value\":\"${:,.2f}\"})"
   ]
  },
  {
   "cell_type": "markdown",
   "metadata": {},
   "source": [
    "## Most Popular Items"
   ]
  },
  {
   "cell_type": "markdown",
   "metadata": {},
   "source": [
    "* Retrieve the Item ID, Item Name, and Item Price columns\n",
    "\n",
    "\n",
    "* Group by Item ID and Item Name. Perform calculations to obtain purchase count, item price, and total purchase value\n",
    "\n",
    "\n",
    "* Create a summary data frame to hold the results\n",
    "\n",
    "\n",
    "* Sort the purchase count column in descending order\n",
    "\n",
    "\n",
    "* Optional: give the displayed data cleaner formatting\n",
    "\n",
    "\n",
    "* Display a preview of the summary data frame\n",
    "\n"
   ]
  },
  {
   "cell_type": "code",
   "execution_count": 134,
   "metadata": {},
   "outputs": [
    {
     "data": {
      "text/html": [
       "<style  type=\"text/css\" >\n",
       "</style>  \n",
       "<table id=\"T_f9d7f636_2f51_11e9_affd_9822efed83fa\" > \n",
       "<thead>    <tr> \n",
       "        <th class=\"blank\" ></th> \n",
       "        <th class=\"blank level0\" ></th> \n",
       "        <th class=\"col_heading level0 col0\" >Purchase Count</th> \n",
       "        <th class=\"col_heading level0 col1\" >Item Price</th> \n",
       "        <th class=\"col_heading level0 col2\" >Total Purchase Value</th> \n",
       "    </tr>    <tr> \n",
       "        <th class=\"index_name level0\" >Item ID</th> \n",
       "        <th class=\"index_name level1\" >Item Name</th> \n",
       "        <th class=\"blank\" ></th> \n",
       "        <th class=\"blank\" ></th> \n",
       "        <th class=\"blank\" ></th> \n",
       "    </tr></thead> \n",
       "<tbody>    <tr> \n",
       "        <th id=\"T_f9d7f636_2f51_11e9_affd_9822efed83falevel0_row0\" class=\"row_heading level0 row0\" >178</th> \n",
       "        <th id=\"T_f9d7f636_2f51_11e9_affd_9822efed83falevel1_row0\" class=\"row_heading level1 row0\" >Oathbreaker, Last Hope of the Breaking Storm</th> \n",
       "        <td id=\"T_f9d7f636_2f51_11e9_affd_9822efed83farow0_col0\" class=\"data row0 col0\" >12</td> \n",
       "        <td id=\"T_f9d7f636_2f51_11e9_affd_9822efed83farow0_col1\" class=\"data row0 col1\" >$4.23</td> \n",
       "        <td id=\"T_f9d7f636_2f51_11e9_affd_9822efed83farow0_col2\" class=\"data row0 col2\" >$50.76</td> \n",
       "    </tr>    <tr> \n",
       "        <th id=\"T_f9d7f636_2f51_11e9_affd_9822efed83falevel0_row1\" class=\"row_heading level0 row1\" >145</th> \n",
       "        <th id=\"T_f9d7f636_2f51_11e9_affd_9822efed83falevel1_row1\" class=\"row_heading level1 row1\" >Fiery Glass Crusader</th> \n",
       "        <td id=\"T_f9d7f636_2f51_11e9_affd_9822efed83farow1_col0\" class=\"data row1 col0\" >9</td> \n",
       "        <td id=\"T_f9d7f636_2f51_11e9_affd_9822efed83farow1_col1\" class=\"data row1 col1\" >$4.58</td> \n",
       "        <td id=\"T_f9d7f636_2f51_11e9_affd_9822efed83farow1_col2\" class=\"data row1 col2\" >$41.22</td> \n",
       "    </tr>    <tr> \n",
       "        <th id=\"T_f9d7f636_2f51_11e9_affd_9822efed83falevel0_row2\" class=\"row_heading level0 row2\" >108</th> \n",
       "        <th id=\"T_f9d7f636_2f51_11e9_affd_9822efed83falevel1_row2\" class=\"row_heading level1 row2\" >Extraction, Quickblade Of Trembling Hands</th> \n",
       "        <td id=\"T_f9d7f636_2f51_11e9_affd_9822efed83farow2_col0\" class=\"data row2 col0\" >9</td> \n",
       "        <td id=\"T_f9d7f636_2f51_11e9_affd_9822efed83farow2_col1\" class=\"data row2 col1\" >$3.53</td> \n",
       "        <td id=\"T_f9d7f636_2f51_11e9_affd_9822efed83farow2_col2\" class=\"data row2 col2\" >$31.77</td> \n",
       "    </tr>    <tr> \n",
       "        <th id=\"T_f9d7f636_2f51_11e9_affd_9822efed83falevel0_row3\" class=\"row_heading level0 row3\" >82</th> \n",
       "        <th id=\"T_f9d7f636_2f51_11e9_affd_9822efed83falevel1_row3\" class=\"row_heading level1 row3\" >Nirvana</th> \n",
       "        <td id=\"T_f9d7f636_2f51_11e9_affd_9822efed83farow3_col0\" class=\"data row3 col0\" >9</td> \n",
       "        <td id=\"T_f9d7f636_2f51_11e9_affd_9822efed83farow3_col1\" class=\"data row3 col1\" >$4.90</td> \n",
       "        <td id=\"T_f9d7f636_2f51_11e9_affd_9822efed83farow3_col2\" class=\"data row3 col2\" >$44.10</td> \n",
       "    </tr>    <tr> \n",
       "        <th id=\"T_f9d7f636_2f51_11e9_affd_9822efed83falevel0_row4\" class=\"row_heading level0 row4\" >19</th> \n",
       "        <th id=\"T_f9d7f636_2f51_11e9_affd_9822efed83falevel1_row4\" class=\"row_heading level1 row4\" >Pursuit, Cudgel of Necromancy</th> \n",
       "        <td id=\"T_f9d7f636_2f51_11e9_affd_9822efed83farow4_col0\" class=\"data row4 col0\" >8</td> \n",
       "        <td id=\"T_f9d7f636_2f51_11e9_affd_9822efed83farow4_col1\" class=\"data row4 col1\" >$1.02</td> \n",
       "        <td id=\"T_f9d7f636_2f51_11e9_affd_9822efed83farow4_col2\" class=\"data row4 col2\" >$8.16</td> \n",
       "    </tr></tbody> \n",
       "</table> "
      ],
      "text/plain": [
       "<pandas.io.formats.style.Styler at 0x23c0796eb70>"
      ]
     },
     "execution_count": 134,
     "metadata": {},
     "output_type": "execute_result"
    }
   ],
   "source": [
    "# Create new data frame with items related information \n",
    "items = purchase_data[[\"Item ID\", \"Item Name\", \"Price\"]]\n",
    "\n",
    "# Group the item data by item id and item name \n",
    "item_stats = items.groupby([\"Item ID\",\"Item Name\"])\n",
    "\n",
    "# Count the number of times an item has been purchased \n",
    "purchase_count_item = item_stats[\"Price\"].count()\n",
    "\n",
    "# Calcualte the purchase value per item \n",
    "purchase_value = (item_stats[\"Price\"].sum()) \n",
    "\n",
    "# Find individual item price\n",
    "item_price = purchase_value/purchase_count_item\n",
    "\n",
    "# Create data frame with obtained values\n",
    "most_popular_items = pd.DataFrame({\"Purchase Count\": purchase_count_item, \"Item Price\": item_price, \"Total Purchase Value\":purchase_value})\n",
    "\n",
    "# Sort in descending order to obtain top spender names and provide top 5 item names\n",
    "popular_formatted = most_popular_items.sort_values([\"Purchase Count\"], ascending=False).head()\n",
    "\n",
    "# Format with currency style\n",
    "popular_formatted.style.format({\"Item Price\":\"${:,.2f}\", \"Total Purchase Value\":\"${:,.2f}\"})\n",
    "\n"
   ]
  },
  {
   "cell_type": "markdown",
   "metadata": {},
   "source": [
    "## Most Profitable Items"
   ]
  },
  {
   "cell_type": "markdown",
   "metadata": {},
   "source": [
    "* Sort the above table by total purchase value in descending order\n",
    "\n",
    "\n",
    "* Optional: give the displayed data cleaner formatting\n",
    "\n",
    "\n",
    "* Display a preview of the data frame\n",
    "\n"
   ]
  },
  {
   "cell_type": "code",
   "execution_count": 135,
   "metadata": {
    "scrolled": true
   },
   "outputs": [
    {
     "data": {
      "text/html": [
       "<style  type=\"text/css\" >\n",
       "</style>  \n",
       "<table id=\"T_fd390168_2f51_11e9_938f_9822efed83fa\" > \n",
       "<thead>    <tr> \n",
       "        <th class=\"blank\" ></th> \n",
       "        <th class=\"blank level0\" ></th> \n",
       "        <th class=\"col_heading level0 col0\" >Purchase Count</th> \n",
       "        <th class=\"col_heading level0 col1\" >Item Price</th> \n",
       "        <th class=\"col_heading level0 col2\" >Total Purchase Value</th> \n",
       "    </tr>    <tr> \n",
       "        <th class=\"index_name level0\" >Item ID</th> \n",
       "        <th class=\"index_name level1\" >Item Name</th> \n",
       "        <th class=\"blank\" ></th> \n",
       "        <th class=\"blank\" ></th> \n",
       "        <th class=\"blank\" ></th> \n",
       "    </tr></thead> \n",
       "<tbody>    <tr> \n",
       "        <th id=\"T_fd390168_2f51_11e9_938f_9822efed83falevel0_row0\" class=\"row_heading level0 row0\" >178</th> \n",
       "        <th id=\"T_fd390168_2f51_11e9_938f_9822efed83falevel1_row0\" class=\"row_heading level1 row0\" >Oathbreaker, Last Hope of the Breaking Storm</th> \n",
       "        <td id=\"T_fd390168_2f51_11e9_938f_9822efed83farow0_col0\" class=\"data row0 col0\" >12</td> \n",
       "        <td id=\"T_fd390168_2f51_11e9_938f_9822efed83farow0_col1\" class=\"data row0 col1\" >$4.23</td> \n",
       "        <td id=\"T_fd390168_2f51_11e9_938f_9822efed83farow0_col2\" class=\"data row0 col2\" >$50.76</td> \n",
       "    </tr>    <tr> \n",
       "        <th id=\"T_fd390168_2f51_11e9_938f_9822efed83falevel0_row1\" class=\"row_heading level0 row1\" >82</th> \n",
       "        <th id=\"T_fd390168_2f51_11e9_938f_9822efed83falevel1_row1\" class=\"row_heading level1 row1\" >Nirvana</th> \n",
       "        <td id=\"T_fd390168_2f51_11e9_938f_9822efed83farow1_col0\" class=\"data row1 col0\" >9</td> \n",
       "        <td id=\"T_fd390168_2f51_11e9_938f_9822efed83farow1_col1\" class=\"data row1 col1\" >$4.90</td> \n",
       "        <td id=\"T_fd390168_2f51_11e9_938f_9822efed83farow1_col2\" class=\"data row1 col2\" >$44.10</td> \n",
       "    </tr>    <tr> \n",
       "        <th id=\"T_fd390168_2f51_11e9_938f_9822efed83falevel0_row2\" class=\"row_heading level0 row2\" >145</th> \n",
       "        <th id=\"T_fd390168_2f51_11e9_938f_9822efed83falevel1_row2\" class=\"row_heading level1 row2\" >Fiery Glass Crusader</th> \n",
       "        <td id=\"T_fd390168_2f51_11e9_938f_9822efed83farow2_col0\" class=\"data row2 col0\" >9</td> \n",
       "        <td id=\"T_fd390168_2f51_11e9_938f_9822efed83farow2_col1\" class=\"data row2 col1\" >$4.58</td> \n",
       "        <td id=\"T_fd390168_2f51_11e9_938f_9822efed83farow2_col2\" class=\"data row2 col2\" >$41.22</td> \n",
       "    </tr>    <tr> \n",
       "        <th id=\"T_fd390168_2f51_11e9_938f_9822efed83falevel0_row3\" class=\"row_heading level0 row3\" >92</th> \n",
       "        <th id=\"T_fd390168_2f51_11e9_938f_9822efed83falevel1_row3\" class=\"row_heading level1 row3\" >Final Critic</th> \n",
       "        <td id=\"T_fd390168_2f51_11e9_938f_9822efed83farow3_col0\" class=\"data row3 col0\" >8</td> \n",
       "        <td id=\"T_fd390168_2f51_11e9_938f_9822efed83farow3_col1\" class=\"data row3 col1\" >$4.88</td> \n",
       "        <td id=\"T_fd390168_2f51_11e9_938f_9822efed83farow3_col2\" class=\"data row3 col2\" >$39.04</td> \n",
       "    </tr>    <tr> \n",
       "        <th id=\"T_fd390168_2f51_11e9_938f_9822efed83falevel0_row4\" class=\"row_heading level0 row4\" >103</th> \n",
       "        <th id=\"T_fd390168_2f51_11e9_938f_9822efed83falevel1_row4\" class=\"row_heading level1 row4\" >Singed Scalpel</th> \n",
       "        <td id=\"T_fd390168_2f51_11e9_938f_9822efed83farow4_col0\" class=\"data row4 col0\" >8</td> \n",
       "        <td id=\"T_fd390168_2f51_11e9_938f_9822efed83farow4_col1\" class=\"data row4 col1\" >$4.35</td> \n",
       "        <td id=\"T_fd390168_2f51_11e9_938f_9822efed83farow4_col2\" class=\"data row4 col2\" >$34.80</td> \n",
       "    </tr></tbody> \n",
       "</table> "
      ],
      "text/plain": [
       "<pandas.io.formats.style.Styler at 0x23c07a24588>"
      ]
     },
     "execution_count": 135,
     "metadata": {},
     "output_type": "execute_result"
    }
   ],
   "source": [
    "# Sort the above table by total purchase value in descending order\n",
    "popular_formatted = most_popular_items.sort_values([\"Total Purchase Value\"], ascending=False).head()\n",
    "\n",
    "# Format with currency style\n",
    "popular_formatted.style.format({\"Item Price\":\"${:,.2f}\", \"Total Purchase Value\":\"${:,.2f}\"})"
   ]
  },
  {
   "cell_type": "code",
   "execution_count": null,
   "metadata": {},
   "outputs": [],
   "source": []
  }
 ],
 "metadata": {
  "anaconda-cloud": {},
  "kernel_info": {
   "name": "python3"
  },
  "kernelspec": {
   "display_name": "Python [conda env:root]",
   "language": "python",
   "name": "conda-root-py"
  },
  "language_info": {
   "codemirror_mode": {
    "name": "ipython",
    "version": 3
   },
   "file_extension": ".py",
   "mimetype": "text/x-python",
   "name": "python",
   "nbconvert_exporter": "python",
   "pygments_lexer": "ipython3",
   "version": "3.7.1"
  },
  "nteract": {
   "version": "0.2.0"
  }
 },
 "nbformat": 4,
 "nbformat_minor": 2
}
